{
  "nbformat": 4,
  "nbformat_minor": 0,
  "metadata": {
    "colab": {
      "provenance": [],
      "authorship_tag": "ABX9TyO2qYn1e80r5UVBkQik/1mq",
      "include_colab_link": true
    },
    "kernelspec": {
      "name": "python3",
      "display_name": "Python 3"
    },
    "language_info": {
      "name": "python"
    }
  },
  "cells": [
    {
      "cell_type": "markdown",
      "metadata": {
        "id": "view-in-github",
        "colab_type": "text"
      },
      "source": [
        "<a href=\"https://colab.research.google.com/github/THOMMAIABISHA/ABIs/blob/main/taks_4.ipynb\" target=\"_parent\"><img src=\"https://colab.research.google.com/assets/colab-badge.svg\" alt=\"Open In Colab\"/></a>"
      ]
    },
    {
      "cell_type": "code",
      "execution_count": null,
      "metadata": {
        "colab": {
          "base_uri": "https://localhost:8080/",
          "height": 628
        },
        "id": "lv7iM5dJ0a9j",
        "outputId": "0a48e8f8-cc90-4089-b5d7-1f55c2670793"
      },
      "outputs": [
        {
          "output_type": "stream",
          "name": "stdout",
          "text": [
            "🧾 Sample Data:\n",
            "                                         text sentiment\n",
            "0           Loved the product, super useful!  positive\n",
            "1           Worst purchase ever. Do not buy!  negative\n",
            "2            It's okay, not too good or bad.   neutral\n",
            "3         Amazing! Exceeded my expectations.  positive\n",
            "4  Very poor customer support. Disappointed.  negative\n",
            "\n",
            "✅ Predicted Sentiments: ['positive', 'positive', 'positive']\n"
          ]
        },
        {
          "output_type": "display_data",
          "data": {
            "text/plain": [
              "<Figure size 640x480 with 1 Axes>"
            ],
            "image/png": "[encoded data removed]"
          },
          "metadata": {}
        }
      ],
      "source": [
        "#  Learned to import these from YouTube 'Data Science in 10 minutes' video\n",
        "import pandas as pd\n",
        "from sklearn.feature_extraction.text import CountVectorizer\n",
        "from sklearn.linear_model import LogisticRegression\n",
        "from sklearn.model_selection import train_test_split\n",
        "import matplotlib.pyplot as plt\n",
        "import seaborn as sns\n",
        "\n",
        "#  Step 1: Creating a small custom dataset (made by me )\n",
        "data = {\n",
        "    \"text\": [\n",
        "        \"Loved the product, super useful!\",\n",
        "        \"Worst purchase ever. Do not buy!\",\n",
        "        \"It's okay, not too good or bad.\",\n",
        "        \"Amazing! Exceeded my expectations.\",\n",
        "        \"Very poor customer support. Disappointed.\",\n",
        "        \"Decent features for the price.\",\n",
        "        \"Extremely happy with the service.\",\n",
        "        \"Totally regret spending money on this.\",\n",
        "        \"Product works well, satisfied overall.\",\n",
        "        \"Terrible. I returned it the next day.\"\n",
        "    ],\n",
        "    \"sentiment\": [\n",
        "        \"positive\", \"negative\", \"neutral\", \"positive\", \"negative\",\n",
        "        \"neutral\", \"positive\", \"negative\", \"positive\", \"negative\"\n",
        "    ]\n",
        "}\n",
        "\n",
        "df = pd.DataFrame(data)\n",
        "\n",
        "#  Peek at the data like pros do\n",
        "print(\" Sample Data:\\n\", df.head())\n",
        "\n",
        "#  Step 2: Vectorizing the text (turning words into numbers )\n",
        "vectorizer = CountVectorizer()\n",
        "X = vectorizer.fit_transform(df[\"text\"])\n",
        "\n",
        "#  Step 3: Target variable\n",
        "y = df[\"sentiment\"]\n",
        "\n",
        "#  Step 4: Splitting the data (used 0.3 test split as per tutorial )\n",
        "X_train, X_test, y_train, y_test = train_test_split(X, y, test_size=0.3, random_state=42)\n",
        "\n",
        "#  Step 5: Logistic Regression (YouTube said it's great for sentiment)\n",
        "model = LogisticRegression()\n",
        "model.fit(X_train, y_train)\n",
        "\n",
        "#  Step 6: Prediction and checking accuracy\n",
        "predicted = model.predict(X_test)\n",
        "print(\"\\n Predicted Sentiments:\", predicted.tolist())\n",
        "\n",
        "#  Step 7: Visualize how many predictions we got\n",
        "sns.countplot(x=predicted)\n",
        "plt.title(\"Predicted Sentiment Distribution\")\n",
        "plt.xlabel(\"Sentiment\")\n",
        "plt.ylabel(\"Tweet Count\")\n",
        "plt.show()\n"
      ]
    }
  ]
}